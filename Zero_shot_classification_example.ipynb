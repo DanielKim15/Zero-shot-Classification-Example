{
 "cells": [
  {
   "cell_type": "code",
   "execution_count": 7,
   "metadata": {},
   "outputs": [],
   "source": [
    "###GSA Inventiory tackle\n",
    "import pandas as pd\n",
    "import numpy as np\n",
    "import seaborn as sns\n",
    "import matplotlib.pyplot as plt\n",
    "import sklearn\n",
    "import seaborn as sns\n",
    "\n",
    "import pyspark\n",
    "from pyspark.sql import SparkSession\n",
    "import pyspark.sql.functions as F"
   ]
  },
  {
   "cell_type": "code",
   "execution_count": 4,
   "metadata": {},
   "outputs": [
    {
     "name": "stdout",
     "output_type": "stream",
     "text": [
      "URL\tftp://194.44.98.42/UPLOAD/SOFT/delphi/AForge.NET%20Framework-2.2.3/Release/AForge.Imaging.xml\n",
      "\n",
      "MENTION\tBayer filter\t863044\thttp://en.wikipedia.org/wiki/Bayer_filter\n",
      "\n",
      "TOKEN\tbluring\t905997\n",
      "\n",
      "TOKEN\twell\t863642\n",
      "\n",
      "TOKEN\tmakes\t863424\n",
      "\n"
     ]
    }
   ],
   "source": [
    "with open(\"C:/Users/dkim.CENSEO/Downloads/data-00007-of-00010\", 'r') as file:\n",
    "    for _ in range(5):  # Adjust the range to read more or fewer lines\n",
    "        print(file.readline())\n"
   ]
  },
  {
   "cell_type": "code",
   "execution_count": 3,
   "metadata": {},
   "outputs": [
    {
     "data": {
      "text/html": [
       "<div>\n",
       "<style scoped>\n",
       "    .dataframe tbody tr th:only-of-type {\n",
       "        vertical-align: middle;\n",
       "    }\n",
       "\n",
       "    .dataframe tbody tr th {\n",
       "        vertical-align: top;\n",
       "    }\n",
       "\n",
       "    .dataframe thead th {\n",
       "        text-align: right;\n",
       "    }\n",
       "</style>\n",
       "<table border=\"1\" class=\"dataframe\">\n",
       "  <thead>\n",
       "    <tr style=\"text-align: right;\">\n",
       "      <th></th>\n",
       "      <th>Id</th>\n",
       "      <th>ProductId</th>\n",
       "      <th>UserId</th>\n",
       "      <th>ProfileName</th>\n",
       "      <th>HelpfulnessNumerator</th>\n",
       "      <th>HelpfulnessDenominator</th>\n",
       "      <th>Score</th>\n",
       "      <th>Time</th>\n",
       "      <th>Summary</th>\n",
       "      <th>Text</th>\n",
       "    </tr>\n",
       "  </thead>\n",
       "  <tbody>\n",
       "    <tr>\n",
       "      <th>516585</th>\n",
       "      <td>516586</td>\n",
       "      <td>B000H1217M</td>\n",
       "      <td>A3140UZE51Q4WU</td>\n",
       "      <td>Lise Lau, Executive Recruiter</td>\n",
       "      <td>1</td>\n",
       "      <td>1</td>\n",
       "      <td>5</td>\n",
       "      <td>1334966400</td>\n",
       "      <td>Dogs love these!</td>\n",
       "      <td>These treats are great value for the money.  T...</td>\n",
       "    </tr>\n",
       "    <tr>\n",
       "      <th>467544</th>\n",
       "      <td>467545</td>\n",
       "      <td>B00141SAW4</td>\n",
       "      <td>A5VA9X81FNVMF</td>\n",
       "      <td>P. Moore</td>\n",
       "      <td>1</td>\n",
       "      <td>1</td>\n",
       "      <td>5</td>\n",
       "      <td>1306886400</td>\n",
       "      <td>Love this canned food</td>\n",
       "      <td>My mixed Rottweiler loves Dogswell Happy Hips ...</td>\n",
       "    </tr>\n",
       "    <tr>\n",
       "      <th>559503</th>\n",
       "      <td>559504</td>\n",
       "      <td>B001E8DHPW</td>\n",
       "      <td>A1KSYEWBOX65N1</td>\n",
       "      <td>Robin \"Green One\"</td>\n",
       "      <td>4</td>\n",
       "      <td>5</td>\n",
       "      <td>5</td>\n",
       "      <td>1281139200</td>\n",
       "      <td>Nutiva organic extra virgin coconut oil</td>\n",
       "      <td>I would not live without this product. I Have ...</td>\n",
       "    </tr>\n",
       "    <tr>\n",
       "      <th>296347</th>\n",
       "      <td>296348</td>\n",
       "      <td>B000VKADSS</td>\n",
       "      <td>AFD7TSLA6S5CP</td>\n",
       "      <td>ohia tree</td>\n",
       "      <td>1</td>\n",
       "      <td>1</td>\n",
       "      <td>4</td>\n",
       "      <td>1308441600</td>\n",
       "      <td>Great Cat Food</td>\n",
       "      <td>The only reason I didn't give a 5 star rating ...</td>\n",
       "    </tr>\n",
       "    <tr>\n",
       "      <th>348915</th>\n",
       "      <td>348916</td>\n",
       "      <td>B000FMZO90</td>\n",
       "      <td>A15VP7DTOVEIQZ</td>\n",
       "      <td>Linda L. Hammond</td>\n",
       "      <td>0</td>\n",
       "      <td>0</td>\n",
       "      <td>5</td>\n",
       "      <td>1185235200</td>\n",
       "      <td>Delicious Snapea Crisps</td>\n",
       "      <td>I purchased the Snapea Crisps recently in Alab...</td>\n",
       "    </tr>\n",
       "    <tr>\n",
       "      <th>...</th>\n",
       "      <td>...</td>\n",
       "      <td>...</td>\n",
       "      <td>...</td>\n",
       "      <td>...</td>\n",
       "      <td>...</td>\n",
       "      <td>...</td>\n",
       "      <td>...</td>\n",
       "      <td>...</td>\n",
       "      <td>...</td>\n",
       "      <td>...</td>\n",
       "    </tr>\n",
       "    <tr>\n",
       "      <th>219203</th>\n",
       "      <td>219204</td>\n",
       "      <td>B000F3VB7S</td>\n",
       "      <td>A3F3B1JPACN215</td>\n",
       "      <td>Michael G. Lustig</td>\n",
       "      <td>3</td>\n",
       "      <td>3</td>\n",
       "      <td>5</td>\n",
       "      <td>1204848000</td>\n",
       "      <td>Packaging is fine</td>\n",
       "      <td>Other reviews said the packaging was inadequat...</td>\n",
       "    </tr>\n",
       "    <tr>\n",
       "      <th>396298</th>\n",
       "      <td>396299</td>\n",
       "      <td>B000633V48</td>\n",
       "      <td>A1HLP1ZEW5GCEO</td>\n",
       "      <td>Lisa M.</td>\n",
       "      <td>1</td>\n",
       "      <td>1</td>\n",
       "      <td>5</td>\n",
       "      <td>1234483200</td>\n",
       "      <td>Irresistible</td>\n",
       "      <td>My dog goes absolutely nuts for this. She will...</td>\n",
       "    </tr>\n",
       "    <tr>\n",
       "      <th>199491</th>\n",
       "      <td>199492</td>\n",
       "      <td>B000EDMDZS</td>\n",
       "      <td>A1NK2SF59YKURD</td>\n",
       "      <td>daidai</td>\n",
       "      <td>1</td>\n",
       "      <td>2</td>\n",
       "      <td>3</td>\n",
       "      <td>1271980800</td>\n",
       "      <td>Freeze dried</td>\n",
       "      <td>I purchased these because I was curious to wha...</td>\n",
       "    </tr>\n",
       "    <tr>\n",
       "      <th>431354</th>\n",
       "      <td>431355</td>\n",
       "      <td>B000EVIDWW</td>\n",
       "      <td>A38XT6YHQF9HP6</td>\n",
       "      <td>Holly \"Bells\"</td>\n",
       "      <td>0</td>\n",
       "      <td>0</td>\n",
       "      <td>5</td>\n",
       "      <td>1194998400</td>\n",
       "      <td>Best on the market</td>\n",
       "      <td>Glutino pretzels (and Pastas) are the best on ...</td>\n",
       "    </tr>\n",
       "    <tr>\n",
       "      <th>49484</th>\n",
       "      <td>49485</td>\n",
       "      <td>B003LECIDE</td>\n",
       "      <td>A3M6HM6ADOZKSC</td>\n",
       "      <td>RockTex</td>\n",
       "      <td>0</td>\n",
       "      <td>0</td>\n",
       "      <td>5</td>\n",
       "      <td>1295827200</td>\n",
       "      <td>This stuff is great!</td>\n",
       "      <td>I use this stuff all the time - I would say it...</td>\n",
       "    </tr>\n",
       "  </tbody>\n",
       "</table>\n",
       "<p>10000 rows × 10 columns</p>\n",
       "</div>"
      ],
      "text/plain": [
       "            Id   ProductId          UserId                    ProfileName  \\\n",
       "516585  516586  B000H1217M  A3140UZE51Q4WU  Lise Lau, Executive Recruiter   \n",
       "467544  467545  B00141SAW4   A5VA9X81FNVMF                       P. Moore   \n",
       "559503  559504  B001E8DHPW  A1KSYEWBOX65N1              Robin \"Green One\"   \n",
       "296347  296348  B000VKADSS   AFD7TSLA6S5CP                      ohia tree   \n",
       "348915  348916  B000FMZO90  A15VP7DTOVEIQZ               Linda L. Hammond   \n",
       "...        ...         ...             ...                            ...   \n",
       "219203  219204  B000F3VB7S  A3F3B1JPACN215              Michael G. Lustig   \n",
       "396298  396299  B000633V48  A1HLP1ZEW5GCEO                        Lisa M.   \n",
       "199491  199492  B000EDMDZS  A1NK2SF59YKURD                         daidai   \n",
       "431354  431355  B000EVIDWW  A38XT6YHQF9HP6                  Holly \"Bells\"   \n",
       "49484    49485  B003LECIDE  A3M6HM6ADOZKSC                        RockTex   \n",
       "\n",
       "        HelpfulnessNumerator  HelpfulnessDenominator  Score        Time  \\\n",
       "516585                     1                       1      5  1334966400   \n",
       "467544                     1                       1      5  1306886400   \n",
       "559503                     4                       5      5  1281139200   \n",
       "296347                     1                       1      4  1308441600   \n",
       "348915                     0                       0      5  1185235200   \n",
       "...                      ...                     ...    ...         ...   \n",
       "219203                     3                       3      5  1204848000   \n",
       "396298                     1                       1      5  1234483200   \n",
       "199491                     1                       2      3  1271980800   \n",
       "431354                     0                       0      5  1194998400   \n",
       "49484                      0                       0      5  1295827200   \n",
       "\n",
       "                                        Summary  \\\n",
       "516585                         Dogs love these!   \n",
       "467544                    Love this canned food   \n",
       "559503  Nutiva organic extra virgin coconut oil   \n",
       "296347                           Great Cat Food   \n",
       "348915                  Delicious Snapea Crisps   \n",
       "...                                         ...   \n",
       "219203                        Packaging is fine   \n",
       "396298                             Irresistible   \n",
       "199491                             Freeze dried   \n",
       "431354                       Best on the market   \n",
       "49484                      This stuff is great!   \n",
       "\n",
       "                                                     Text  \n",
       "516585  These treats are great value for the money.  T...  \n",
       "467544  My mixed Rottweiler loves Dogswell Happy Hips ...  \n",
       "559503  I would not live without this product. I Have ...  \n",
       "296347  The only reason I didn't give a 5 star rating ...  \n",
       "348915  I purchased the Snapea Crisps recently in Alab...  \n",
       "...                                                   ...  \n",
       "219203  Other reviews said the packaging was inadequat...  \n",
       "396298  My dog goes absolutely nuts for this. She will...  \n",
       "199491  I purchased these because I was curious to wha...  \n",
       "431354  Glutino pretzels (and Pastas) are the best on ...  \n",
       "49484   I use this stuff all the time - I would say it...  \n",
       "\n",
       "[10000 rows x 10 columns]"
      ]
     },
     "execution_count": 3,
     "metadata": {},
     "output_type": "execute_result"
    }
   ],
   "source": [
    "\"C:/Users/dkim.CENSEO/Downloads/data-00007-of-00010\"\n",
    "# Read the file as a CSV\n",
    "data = pd.read_csv(\"C:/Users/dkim.CENSEO/Downloads/Reviews.csv\").sample(n=10000)\n",
    "data"
   ]
  },
  {
   "cell_type": "code",
   "execution_count": 9,
   "metadata": {},
   "outputs": [
    {
     "data": {
      "text/plain": [
       "164919    i switched my 3 cats to this on the recommenda...\n",
       "278392    I thought the pound cake would taste kind of d...\n",
       "540976    This is the same bittersweet chocolate mocha u...\n",
       "540855    This popcorn is an excellent middle ground bet...\n",
       "264908    Like the Gevalia coffee products but don't lik...\n",
       "                                ...                        \n",
       "443419    I usually really love Baja Bob products but th...\n",
       "232446    Hello! Thanks for send me this item. i receive...\n",
       "517938    I bought this coffee after reading all the rev...\n",
       "546293    I really like another chocolate flavored bar t...\n",
       "13877     My beagle loves these bones. We give them to h...\n",
       "Name: Text, Length: 10000, dtype: object"
      ]
     },
     "execution_count": 9,
     "metadata": {},
     "output_type": "execute_result"
    }
   ],
   "source": [
    "data['Text']"
   ]
  },
  {
   "cell_type": "code",
   "execution_count": 7,
   "metadata": {},
   "outputs": [
    {
     "name": "stderr",
     "output_type": "stream",
     "text": [
      "c:\\Users\\dkim.CENSEO\\AppData\\Local\\Programs\\Python\\Python311\\Lib\\site-packages\\tqdm\\auto.py:21: TqdmWarning: IProgress not found. Please update jupyter and ipywidgets. See https://ipywidgets.readthedocs.io/en/stable/user_install.html\n",
      "  from .autonotebook import tqdm as notebook_tqdm\n",
      "Downloading (…)lve/main/config.json: 100%|██████████| 1.15k/1.15k [00:00<?, ?B/s]\n",
      "c:\\Users\\dkim.CENSEO\\AppData\\Local\\Programs\\Python\\Python311\\Lib\\site-packages\\huggingface_hub\\file_download.py:133: UserWarning: `huggingface_hub` cache-system uses symlinks by default to efficiently store duplicated files but your machine does not support them in C:\\Users\\dkim.CENSEO\\.cache\\huggingface\\hub. Caching files will still work but in a degraded version that might require more space on your disk. This warning can be disabled by setting the `HF_HUB_DISABLE_SYMLINKS_WARNING` environment variable. For more details, see https://huggingface.co/docs/huggingface_hub/how-to-cache#limitations.\n",
      "To support symlinks on Windows, you either need to activate Developer Mode or to run Python as an administrator. In order to see activate developer mode, see this article: https://docs.microsoft.com/en-us/windows/apps/get-started/enable-your-device-for-development\n",
      "  warnings.warn(message)\n",
      "Downloading pytorch_model.bin: 100%|██████████| 1.63G/1.63G [01:07<00:00, 24.0MB/s]\n",
      "Downloading (…)okenizer_config.json: 100%|██████████| 26.0/26.0 [00:00<?, ?B/s]\n",
      "Downloading (…)olve/main/vocab.json: 100%|██████████| 899k/899k [00:00<00:00, 23.8MB/s]\n",
      "Downloading (…)olve/main/merges.txt: 100%|██████████| 456k/456k [00:00<00:00, 38.0MB/s]\n",
      "Downloading (…)/main/tokenizer.json: 100%|██████████| 1.36M/1.36M [00:00<00:00, 27.5MB/s]\n"
     ]
    }
   ],
   "source": [
    "#Testing out zero-shot classification facebook\n",
    "from transformers import pipeline\n",
    "classifier = pipeline(\"zero-shot-classification\",\n",
    "                      model=\"facebook/bart-large-mnli\")\n",
    "\n",
    "\n"
   ]
  },
  {
   "cell_type": "code",
   "execution_count": 8,
   "metadata": {},
   "outputs": [
    {
     "data": {
      "text/plain": [
       "{'sequence': 'one day I will see the world',\n",
       " 'labels': ['travel', 'dancing', 'cooking'],\n",
       " 'scores': [0.9938651919364929, 0.0032737820874899626, 0.002861029002815485]}"
      ]
     },
     "execution_count": 8,
     "metadata": {},
     "output_type": "execute_result"
    }
   ],
   "source": [
    "sequence_to_classify = \"one day I will see the world\"\n",
    "candidate_labels = ['travel', 'cooking', 'dancing']\n",
    "classifier(sequence_to_classify, candidate_labels)\n",
    "#{'labels': ['travel', 'dancing', 'cooking'],\n",
    "# 'scores': [0.9938651323318481, 0.0032737774308770895, 0.002861034357920289],\n",
    "# 'sequence': 'one day I will see the world'}\n"
   ]
  },
  {
   "cell_type": "code",
   "execution_count": 16,
   "metadata": {},
   "outputs": [
    {
     "data": {
      "text/plain": [
       "\"I thought the pound cake would taste kind of dry.I was supprised when it was really moist.Now that's a pound cake.\""
      ]
     },
     "execution_count": 16,
     "metadata": {},
     "output_type": "execute_result"
    }
   ],
   "source": [
    "sequence_to_classify = data.iloc[1,9]\n",
    "sequence_to_classify"
   ]
  },
  {
   "cell_type": "code",
   "execution_count": 17,
   "metadata": {},
   "outputs": [
    {
     "data": {
      "text/plain": [
       "{'sequence': \"I thought the pound cake would taste kind of dry.I was supprised when it was really moist.Now that's a pound cake.\",\n",
       " 'labels': ['dessert', 'meat', 'vegetable', 'candy'],\n",
       " 'scores': [0.7079185843467712,\n",
       "  0.11413579434156418,\n",
       "  0.10134278237819672,\n",
       "  0.07660279422998428]}"
      ]
     },
     "execution_count": 17,
     "metadata": {},
     "output_type": "execute_result"
    }
   ],
   "source": [
    "sequence_to_classify = data.iloc[1,9]\n",
    "candidate_labels = ['dessert', 'meat', 'candy','vegetable']\n",
    "classifier(sequence_to_classify, candidate_labels)"
   ]
  },
  {
   "cell_type": "code",
   "execution_count": 20,
   "metadata": {},
   "outputs": [
    {
     "data": {
      "text/plain": [
       "{'sequence': 'Lenovo IdeaCentre 5',\n",
       " 'labels': ['laptop', 'desktop', 'router'],\n",
       " 'scores': [0.6541888117790222, 0.3305172324180603, 0.015293881297111511]}"
      ]
     },
     "execution_count": 20,
     "metadata": {},
     "output_type": "execute_result"
    }
   ],
   "source": [
    "sequence_to_classify = \"Lenovo IdeaCentre 5\"\n",
    "candidate_labels = ['laptop', 'desktop', 'router']\n",
    "classifier(sequence_to_classify, candidate_labels)"
   ]
  },
  {
   "cell_type": "code",
   "execution_count": 19,
   "metadata": {},
   "outputs": [
    {
     "data": {
      "text/plain": [
       "{'sequence': 'ASUS ROG Zephyrus G14',\n",
       " 'labels': ['laptop', 'router', 'desktop'],\n",
       " 'scores': [0.7349066138267517, 0.20924143493175507, 0.05585196614265442]}"
      ]
     },
     "execution_count": 19,
     "metadata": {},
     "output_type": "execute_result"
    }
   ],
   "source": [
    "sequence_to_classify = \"ASUS ROG Zephyrus G14\"\n",
    "candidate_labels = ['laptop', 'desktop', 'router']\n",
    "classifier(sequence_to_classify, candidate_labels)"
   ]
  },
  {
   "cell_type": "code",
   "execution_count": 21,
   "metadata": {},
   "outputs": [
    {
     "data": {
      "text/plain": [
       "{'sequence': 'TP-Link Archer C2300',\n",
       " 'labels': ['router', 'desktop', 'laptop'],\n",
       " 'scores': [0.9171574115753174, 0.050443269312381744, 0.03239935263991356]}"
      ]
     },
     "execution_count": 21,
     "metadata": {},
     "output_type": "execute_result"
    }
   ],
   "source": [
    "sequence_to_classify = \"TP-Link Archer C2300\"\n",
    "candidate_labels = ['laptop', 'desktop', 'router']\n",
    "classifier(sequence_to_classify, candidate_labels)"
   ]
  },
  {
   "cell_type": "code",
   "execution_count": 26,
   "metadata": {},
   "outputs": [
    {
     "name": "stdout",
     "output_type": "stream",
     "text": [
      "164919    {'sequence': 'i switched my 3 cats to this on ...\n",
      "278392    {'sequence': 'I thought the pound cake would t...\n",
      "540976    {'sequence': 'This is the same bittersweet cho...\n",
      "540855    {'sequence': 'This popcorn is an excellent mid...\n",
      "264908    {'sequence': 'Like the Gevalia coffee products...\n",
      "                                ...                        \n",
      "443419    {'sequence': 'I usually really love Baja Bob p...\n",
      "232446    {'sequence': 'Hello! Thanks for send me this i...\n",
      "517938    {'sequence': 'I bought this coffee after readi...\n",
      "546293    {'sequence': 'I really like another chocolate ...\n",
      "13877     {'sequence': 'My beagle loves these bones. We ...\n",
      "Name: classification, Length: 10000, dtype: object\n"
     ]
    }
   ],
   "source": [
    "##Example coding where we run this entire model in the entire dataset (Without Pytorch, not recommended)\n",
    "# Define the candidate labels\n",
    "candidate_labels = ['dessert', 'meat', 'vegetable','fruit', 'bread','pasta','potato']\n",
    "\n",
    "# Function to classify a single sequence\n",
    "def classify_text(sequence):\n",
    "    return classifier(sequence, candidate_labels)\n",
    "\n",
    "# Apply the function to the \"Text\" column of the DataFrame\n",
    "data['classification'] = data['Text'].apply(classify_text)\n",
    "\n",
    "# Print the results\n",
    "print(data['classification']) #took 621 minutes to complete this, the apply was the slowest part"
   ]
  },
  {
   "cell_type": "code",
   "execution_count": 34,
   "metadata": {},
   "outputs": [
    {
     "data": {
      "text/plain": [
       "{'sequence': 'Caveat, these bags work in the Senseo coffee machine.  The machine makes 1/2 cup and 1 cup coffee.  The coffee has been very good. I broke a $3 a morning habit at Starbucks using this coffee.  If you buy in bulk, it is between 25 cents and 50 cents a pod, and two pods are used to make a cup for between 50 cents to a dollar a cup.',\n",
       " 'labels': ['vegetable',\n",
       "  'potato',\n",
       "  'fruit',\n",
       "  'meat',\n",
       "  'dessert',\n",
       "  'bread',\n",
       "  'pasta'],\n",
       " 'scores': [0.31743931770324707,\n",
       "  0.1514841914176941,\n",
       "  0.1329878717660904,\n",
       "  0.12285653501749039,\n",
       "  0.10934440791606903,\n",
       "  0.09188058227300644,\n",
       "  0.074007049202919]}"
      ]
     },
     "execution_count": 34,
     "metadata": {},
     "output_type": "execute_result"
    }
   ],
   "source": [
    "data.iloc[11,10]"
   ]
  },
  {
   "cell_type": "code",
   "execution_count": 36,
   "metadata": {},
   "outputs": [],
   "source": [
    "data.to_csv(\"C:/Users/dkim.CENSEO/Downloads/zero_shot_classification_test.csv\")"
   ]
  },
  {
   "cell_type": "code",
   "execution_count": 1,
   "metadata": {},
   "outputs": [
    {
     "data": {
      "text/plain": [
       "device(type='cuda')"
      ]
     },
     "execution_count": 1,
     "metadata": {},
     "output_type": "execute_result"
    }
   ],
   "source": [
    "####Utilizing pytorch aka using gpu not cpu\n",
    "import torch\n",
    "\n",
    "device = torch.device(\"cuda\" if torch.cuda.is_available() else \"cpu\")\n",
    "device #this is to ensure that your pytorch is using gpu and not cpu\n"
   ]
  },
  {
   "cell_type": "code",
   "execution_count": null,
   "metadata": {},
   "outputs": [],
   "source": [
    "import torch\n",
    "\n",
    "print(torch.cuda.is_available())  # Should print True if CUDA is enabled\n"
   ]
  },
  {
   "cell_type": "code",
   "execution_count": 4,
   "metadata": {},
   "outputs": [
    {
     "name": "stderr",
     "output_type": "stream",
     "text": [
      "c:\\Users\\dkim.CENSEO\\AppData\\Local\\Programs\\Python\\Python311\\Lib\\site-packages\\tqdm\\auto.py:21: TqdmWarning: IProgress not found. Please update jupyter and ipywidgets. See https://ipywidgets.readthedocs.io/en/stable/user_install.html\n",
      "  from .autonotebook import tqdm as notebook_tqdm\n"
     ]
    }
   ],
   "source": [
    "from transformers import AutoModelForSequenceClassification, AutoTokenizer\n",
    "\n",
    "model_name = \"facebook/bart-large-mnli\"\n",
    "model = AutoModelForSequenceClassification.from_pretrained(model_name).to(device)\n",
    "tokenizer = AutoTokenizer.from_pretrained(model_name)\n"
   ]
  },
  {
   "cell_type": "code",
   "execution_count": 6,
   "metadata": {},
   "outputs": [
    {
     "name": "stderr",
     "output_type": "stream",
     "text": [
      "c:\\Users\\dkim.CENSEO\\AppData\\Local\\Programs\\Python\\Python311\\Lib\\site-packages\\transformers\\pipelines\\base.py:1070: UserWarning: You seem to be using the pipelines sequentially on GPU. In order to maximize efficiency please use a dataset\n",
      "  warnings.warn(\n"
     ]
    }
   ],
   "source": [
    "from transformers import pipeline\n",
    "\n",
    "classifier = pipeline(\"zero-shot-classification\", model=model, tokenizer=tokenizer, device=0) # 0 for CUDA device\n",
    "\n",
    "batch_size = 100\n",
    "classifications = [] \n",
    "candidate_labels = ['dessert', 'meat', 'vegetable','fruit', 'bread','pasta','potato']\n",
    "\n",
    "\n",
    "for i in range(0, len(data), batch_size): #The batching is to make the coding more efficient\n",
    "    batch = data['Text'][i:i + batch_size].tolist() #bath is going to pick 100 rows and put them in a list\n",
    "    classifications.extend(classifier(batch, candidate_labels)) #Then its going to run the zero shot classifier in the batch, then the process repeats until all has been finished\n",
    "\n",
    "data['classification'] = classifications #this will use cuda hopefully \n",
    "#96 minute instead, MUCH FASTER\n"
   ]
  },
  {
   "cell_type": "code",
   "execution_count": null,
   "metadata": {},
   "outputs": [],
   "source": []
  }
 ],
 "metadata": {
  "kernelspec": {
   "display_name": "Python 3",
   "language": "python",
   "name": "python3"
  },
  "language_info": {
   "codemirror_mode": {
    "name": "ipython",
    "version": 3
   },
   "file_extension": ".py",
   "mimetype": "text/x-python",
   "name": "python",
   "nbconvert_exporter": "python",
   "pygments_lexer": "ipython3",
   "version": "3.11.3"
  },
  "orig_nbformat": 4
 },
 "nbformat": 4,
 "nbformat_minor": 2
}
